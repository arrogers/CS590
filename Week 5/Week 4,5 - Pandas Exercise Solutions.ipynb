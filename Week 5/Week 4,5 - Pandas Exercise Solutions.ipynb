{
 "cells": [
  {
   "cell_type": "markdown",
   "metadata": {},
   "source": [
    "![](logo.png)"
   ]
  },
  {
   "cell_type": "markdown",
   "metadata": {},
   "source": [
    "# <font color='red'>Introduction to Pandas Exercise Solutions</font>\n",
    "\n",
    "The last two weeks focused on the Pandas library, specifically input of files to dataframes, indexing a selecting subsets of data, merging and joining, and output of dataframes to various files. This exercise is designed to review the materials coverd in the Week 4 and 5 lectures."
   ]
  },
  {
   "cell_type": "markdown",
   "metadata": {},
   "source": [
    "1. Import Pandas, Numpy and OS libraries"
   ]
  },
  {
   "cell_type": "code",
   "execution_count": 1,
   "metadata": {},
   "outputs": [],
   "source": [
    "import pandas as pd\n",
    "import numpy as np\n",
    "import os"
   ]
  },
  {
   "cell_type": "markdown",
   "metadata": {},
   "source": [
    "2. Read in the peanut_lines CSV file as **peanut_lines** (Use encoding='ISO-8859-1')"
   ]
  },
  {
   "cell_type": "code",
   "execution_count": 2,
   "metadata": {},
   "outputs": [],
   "source": [
    "peanut_lines = pd.read_csv('peanut_lines.csv', encoding='ISO-8859-1')"
   ]
  },
  {
   "cell_type": "markdown",
   "metadata": {},
   "source": [
    "3. Check the head of the files"
   ]
  },
  {
   "cell_type": "code",
   "execution_count": 3,
   "metadata": {},
   "outputs": [
    {
     "data": {
      "text/html": [
       "<div>\n",
       "<style scoped>\n",
       "    .dataframe tbody tr th:only-of-type {\n",
       "        vertical-align: middle;\n",
       "    }\n",
       "\n",
       "    .dataframe tbody tr th {\n",
       "        vertical-align: top;\n",
       "    }\n",
       "\n",
       "    .dataframe thead th {\n",
       "        text-align: right;\n",
       "    }\n",
       "</style>\n",
       "<table border=\"1\" class=\"dataframe\">\n",
       "  <thead>\n",
       "    <tr style=\"text-align: right;\">\n",
       "      <th></th>\n",
       "      <th>NC_Accession</th>\n",
       "      <th>Identity or Parentage</th>\n",
       "      <th>Pedigree</th>\n",
       "      <th>FAG</th>\n",
       "    </tr>\n",
       "  </thead>\n",
       "  <tbody>\n",
       "    <tr>\n",
       "      <td>0</td>\n",
       "      <td>ACI WT09-0761</td>\n",
       "      <td>ACI WT09-0761</td>\n",
       "      <td>NaN</td>\n",
       "      <td>Check</td>\n",
       "    </tr>\n",
       "    <tr>\n",
       "      <td>1</td>\n",
       "      <td>ACI WT11-0351</td>\n",
       "      <td>ACI WT11-0351</td>\n",
       "      <td>NaN</td>\n",
       "      <td>ol ol</td>\n",
       "    </tr>\n",
       "    <tr>\n",
       "      <td>2</td>\n",
       "      <td>ACI WT12-0226</td>\n",
       "      <td>ACI WT12-0226</td>\n",
       "      <td>NaN</td>\n",
       "      <td>ol ol</td>\n",
       "    </tr>\n",
       "    <tr>\n",
       "      <td>3</td>\n",
       "      <td>ACI WT12-0419</td>\n",
       "      <td>ACI WT12-0419</td>\n",
       "      <td>NaN</td>\n",
       "      <td>Check</td>\n",
       "    </tr>\n",
       "    <tr>\n",
       "      <td>4</td>\n",
       "      <td>ACI WT12-0420</td>\n",
       "      <td>ACI WT12-0420</td>\n",
       "      <td>NaN</td>\n",
       "      <td>ol ol</td>\n",
       "    </tr>\n",
       "  </tbody>\n",
       "</table>\n",
       "</div>"
      ],
      "text/plain": [
       "    NC_Accession Identity or Parentage Pedigree    FAG\n",
       "0  ACI WT09-0761         ACI WT09-0761      NaN  Check\n",
       "1  ACI WT11-0351         ACI WT11-0351      NaN  ol ol\n",
       "2  ACI WT12-0226         ACI WT12-0226      NaN  ol ol\n",
       "3  ACI WT12-0419         ACI WT12-0419      NaN  Check\n",
       "4  ACI WT12-0420         ACI WT12-0420      NaN  ol ol"
      ]
     },
     "execution_count": 3,
     "metadata": {},
     "output_type": "execute_result"
    }
   ],
   "source": [
    "peanut_lines.head()"
   ]
  },
  {
   "cell_type": "markdown",
   "metadata": {},
   "source": [
    "4. Use the .info() method to find out how many peanut_lines are in the dataframe\n",
    "\n",
    "    **Bonus: Print the total number of entries"
   ]
  },
  {
   "cell_type": "code",
   "execution_count": 4,
   "metadata": {},
   "outputs": [
    {
     "name": "stdout",
     "output_type": "stream",
     "text": [
      "<class 'pandas.core.frame.DataFrame'>\n",
      "RangeIndex: 859 entries, 0 to 858\n",
      "Data columns (total 4 columns):\n",
      "NC_Accession             466 non-null object\n",
      "Identity or Parentage    466 non-null object\n",
      "Pedigree                 409 non-null object\n",
      "FAG                      466 non-null object\n",
      "dtypes: object(4)\n",
      "memory usage: 27.0+ KB\n"
     ]
    }
   ],
   "source": [
    "peanut_lines.info()"
   ]
  },
  {
   "cell_type": "code",
   "execution_count": 7,
   "metadata": {},
   "outputs": [
    {
     "name": "stdout",
     "output_type": "stream",
     "text": [
      "859\n"
     ]
    }
   ],
   "source": [
    "print(peanut_lines.shape[0]) #shape [0 = rows,1 = columns]"
   ]
  },
  {
   "cell_type": "markdown",
   "metadata": {},
   "source": [
    "5. Read in the peanut_yield text file as **peanut_yield** (Use encoding='ISO-8859-1')"
   ]
  },
  {
   "cell_type": "code",
   "execution_count": 9,
   "metadata": {},
   "outputs": [],
   "source": [
    "peanut_yield = pd.read_csv('peanut_yield.txt', sep ='\\t', encoding='ISO-8859-1')"
   ]
  },
  {
   "cell_type": "markdown",
   "metadata": {},
   "source": [
    "6. Check the column names of peanut_yield"
   ]
  },
  {
   "cell_type": "code",
   "execution_count": 10,
   "metadata": {},
   "outputs": [
    {
     "data": {
      "text/plain": [
       "Index(['Year', 'Location', 'Name', 'Label', 'NC_Accession', 'Plot_Yield',\n",
       "       'Yield'],\n",
       "      dtype='object')"
      ]
     },
     "execution_count": 10,
     "metadata": {},
     "output_type": "execute_result"
    }
   ],
   "source": [
    "peanut_yield.columns"
   ]
  },
  {
   "cell_type": "markdown",
   "metadata": {},
   "source": [
    "7. Using 'NC_Accession', merge (or join) the two dataframes together keeping the entirety of the peanut_yield data. Name the new dataframe **peanut_data**"
   ]
  },
  {
   "cell_type": "code",
   "execution_count": 12,
   "metadata": {},
   "outputs": [],
   "source": [
    "peanut_lines.sort_values('NC_Accession', inplace=True)\n",
    "peanut_yield.sort_values('NC_Accession', inplace=True)\n",
    "peanut_data = pd.merge(peanut_lines, peanut_yield, on='NC_Accession', how='right')"
   ]
  },
  {
   "cell_type": "markdown",
   "metadata": {},
   "source": [
    "8. What is the average yield in 2017?"
   ]
  },
  {
   "cell_type": "code",
   "execution_count": 13,
   "metadata": {},
   "outputs": [
    {
     "data": {
      "text/plain": [
       "3981.6"
      ]
     },
     "execution_count": 13,
     "metadata": {},
     "output_type": "execute_result"
    }
   ],
   "source": [
    "peanut_data['Yield'][peanut_data['Year'] == 2017].mean()"
   ]
  },
  {
   "cell_type": "markdown",
   "metadata": {},
   "source": [
    "9. What was the average yield of the top 10 lines tested in the peanut program?"
   ]
  },
  {
   "cell_type": "code",
   "execution_count": 16,
   "metadata": {},
   "outputs": [
    {
     "data": {
      "text/plain": [
       "5155.0666666666675"
      ]
     },
     "execution_count": 16,
     "metadata": {},
     "output_type": "execute_result"
    }
   ],
   "source": [
    "peanut_data.groupby('NC_Accession').mean()['Yield'].sort_values(ascending=False).head(10)"
   ]
  },
  {
   "cell_type": "markdown",
   "metadata": {},
   "source": [
    "10. What are the top 10 most commonly tested lines? Hint: value_counts()"
   ]
  },
  {
   "cell_type": "code",
   "execution_count": 17,
   "metadata": {},
   "outputs": [
    {
     "data": {
      "text/plain": [
       "N11028        34\n",
       "Sullivan      26\n",
       "Emery         26\n",
       "Sugg          26\n",
       "Bailey        26\n",
       "Wynne         26\n",
       "Florida-07    20\n",
       "N11020        20\n",
       "Bailey II     20\n",
       "N08085        18\n",
       "Name: NC_Accession, dtype: int64"
      ]
     },
     "execution_count": 17,
     "metadata": {},
     "output_type": "execute_result"
    }
   ],
   "source": [
    "peanut_data['NC_Accession'].value_counts().head(10)"
   ]
  },
  {
   "cell_type": "code",
   "execution_count": null,
   "metadata": {},
   "outputs": [],
   "source": [
    "peanut_data.head()"
   ]
  },
  {
   "cell_type": "markdown",
   "metadata": {},
   "source": [
    "11. Create a dataframe that satisfy the following requirements\n",
    "<br>peanut lines = 'Bailey', 'Sullivan', 'Wynne', 'Emery', 'Bailey II', 'N14023'\n",
    "<br>location = 'LEW', 'RMT' #Lewiston and Rocky Mount\n",
    "<br>Dataframe = line_data"
   ]
  },
  {
   "cell_type": "code",
   "execution_count": 20,
   "metadata": {},
   "outputs": [],
   "source": [
    "peanut_lines = ['Bailey','Sullivan','Wynne','Emery','Bailey II','N14023']\n",
    "location = ['LEW', 'RMT']\n",
    "line_data = peanut_data[(peanut_data['NC_Accession'].isin(peanut_lines)) & (peanut_data['Location'].isin(location))]"
   ]
  },
  {
   "cell_type": "code",
   "execution_count": 21,
   "metadata": {},
   "outputs": [
    {
     "data": {
      "text/html": [
       "<div>\n",
       "<style scoped>\n",
       "    .dataframe tbody tr th:only-of-type {\n",
       "        vertical-align: middle;\n",
       "    }\n",
       "\n",
       "    .dataframe tbody tr th {\n",
       "        vertical-align: top;\n",
       "    }\n",
       "\n",
       "    .dataframe thead th {\n",
       "        text-align: right;\n",
       "    }\n",
       "</style>\n",
       "<table border=\"1\" class=\"dataframe\">\n",
       "  <thead>\n",
       "    <tr style=\"text-align: right;\">\n",
       "      <th></th>\n",
       "      <th>NC_Accession</th>\n",
       "      <th>Identity or Parentage</th>\n",
       "      <th>Pedigree</th>\n",
       "      <th>FAG</th>\n",
       "      <th>Year</th>\n",
       "      <th>Location</th>\n",
       "      <th>Name</th>\n",
       "      <th>Label</th>\n",
       "      <th>Plot_Yield</th>\n",
       "      <th>Yield</th>\n",
       "    </tr>\n",
       "  </thead>\n",
       "  <tbody>\n",
       "    <tr>\n",
       "      <td>16</td>\n",
       "      <td>Bailey</td>\n",
       "      <td>NC 12C*2 / N96076L</td>\n",
       "      <td>BC1F1-06-01-S-03-S-05: F09</td>\n",
       "      <td>+ +</td>\n",
       "      <td>2018</td>\n",
       "      <td>RMT</td>\n",
       "      <td>ATP</td>\n",
       "      <td>Advanced Testing Program - Yield</td>\n",
       "      <td>13.6</td>\n",
       "      <td>4104</td>\n",
       "    </tr>\n",
       "    <tr>\n",
       "      <td>17</td>\n",
       "      <td>Bailey</td>\n",
       "      <td>NC 12C*2 / N96076L</td>\n",
       "      <td>BC1F1-06-01-S-03-S-05: F09</td>\n",
       "      <td>+ +</td>\n",
       "      <td>2018</td>\n",
       "      <td>LEW</td>\n",
       "      <td>ATP</td>\n",
       "      <td>Advanced Testing Program - Yield</td>\n",
       "      <td>12.9</td>\n",
       "      <td>3915</td>\n",
       "    </tr>\n",
       "    <tr>\n",
       "      <td>19</td>\n",
       "      <td>Bailey</td>\n",
       "      <td>NC 12C*2 / N96076L</td>\n",
       "      <td>BC1F1-06-01-S-03-S-05: F09</td>\n",
       "      <td>+ +</td>\n",
       "      <td>2017</td>\n",
       "      <td>RMT</td>\n",
       "      <td>ATP</td>\n",
       "      <td>Advanced Testing Program - Yield</td>\n",
       "      <td>14.8</td>\n",
       "      <td>4480</td>\n",
       "    </tr>\n",
       "    <tr>\n",
       "      <td>20</td>\n",
       "      <td>Bailey</td>\n",
       "      <td>NC 12C*2 / N96076L</td>\n",
       "      <td>BC1F1-06-01-S-03-S-05: F09</td>\n",
       "      <td>+ +</td>\n",
       "      <td>2017</td>\n",
       "      <td>LEW</td>\n",
       "      <td>ATP</td>\n",
       "      <td>Advanced Testing Program - Yield</td>\n",
       "      <td>16.0</td>\n",
       "      <td>4841</td>\n",
       "    </tr>\n",
       "    <tr>\n",
       "      <td>22</td>\n",
       "      <td>Bailey</td>\n",
       "      <td>NC 12C*2 / N96076L</td>\n",
       "      <td>BC1F1-06-01-S-03-S-05: F09</td>\n",
       "      <td>+ +</td>\n",
       "      <td>2016</td>\n",
       "      <td>RMT</td>\n",
       "      <td>ATP</td>\n",
       "      <td>Advanced Testing Program - Yield</td>\n",
       "      <td>7.5</td>\n",
       "      <td>2262</td>\n",
       "    </tr>\n",
       "    <tr>\n",
       "      <td>...</td>\n",
       "      <td>...</td>\n",
       "      <td>...</td>\n",
       "      <td>...</td>\n",
       "      <td>...</td>\n",
       "      <td>...</td>\n",
       "      <td>...</td>\n",
       "      <td>...</td>\n",
       "      <td>...</td>\n",
       "      <td>...</td>\n",
       "      <td>...</td>\n",
       "    </tr>\n",
       "    <tr>\n",
       "      <td>2651</td>\n",
       "      <td>Wynne</td>\n",
       "      <td>Bailey*2 / Brantley</td>\n",
       "      <td>BC1F1-04-01-S-02-S-02: F09</td>\n",
       "      <td>ol ol</td>\n",
       "      <td>2012</td>\n",
       "      <td>LEW</td>\n",
       "      <td>ATP</td>\n",
       "      <td>Advanced Testing Program - Yield</td>\n",
       "      <td>12.7</td>\n",
       "      <td>3849</td>\n",
       "    </tr>\n",
       "    <tr>\n",
       "      <td>2653</td>\n",
       "      <td>Wynne</td>\n",
       "      <td>Bailey*2 / Brantley</td>\n",
       "      <td>BC1F1-04-01-S-02-S-02: F09</td>\n",
       "      <td>ol ol</td>\n",
       "      <td>2011</td>\n",
       "      <td>RMT</td>\n",
       "      <td>ATP</td>\n",
       "      <td>Advanced Testing Program - Yield</td>\n",
       "      <td>17.3</td>\n",
       "      <td>5235</td>\n",
       "    </tr>\n",
       "    <tr>\n",
       "      <td>2654</td>\n",
       "      <td>Wynne</td>\n",
       "      <td>Bailey*2 / Brantley</td>\n",
       "      <td>BC1F1-04-01-S-02-S-02: F09</td>\n",
       "      <td>ol ol</td>\n",
       "      <td>2011</td>\n",
       "      <td>LEW</td>\n",
       "      <td>ATP</td>\n",
       "      <td>Advanced Testing Program - Yield</td>\n",
       "      <td>14.5</td>\n",
       "      <td>4394</td>\n",
       "    </tr>\n",
       "    <tr>\n",
       "      <td>2656</td>\n",
       "      <td>Wynne</td>\n",
       "      <td>Bailey*2 / Brantley</td>\n",
       "      <td>BC1F1-04-01-S-02-S-02: F09</td>\n",
       "      <td>ol ol</td>\n",
       "      <td>2010</td>\n",
       "      <td>RMT</td>\n",
       "      <td>ATP</td>\n",
       "      <td>Advanced Testing Program - Yield</td>\n",
       "      <td>6.5</td>\n",
       "      <td>1966</td>\n",
       "    </tr>\n",
       "    <tr>\n",
       "      <td>2657</td>\n",
       "      <td>Wynne</td>\n",
       "      <td>Bailey*2 / Brantley</td>\n",
       "      <td>BC1F1-04-01-S-02-S-02: F09</td>\n",
       "      <td>ol ol</td>\n",
       "      <td>2010</td>\n",
       "      <td>LEW</td>\n",
       "      <td>ATP</td>\n",
       "      <td>Advanced Testing Program - Yield</td>\n",
       "      <td>10.2</td>\n",
       "      <td>3099</td>\n",
       "    </tr>\n",
       "  </tbody>\n",
       "</table>\n",
       "<p>96 rows × 10 columns</p>\n",
       "</div>"
      ],
      "text/plain": [
       "     NC_Accession Identity or Parentage                    Pedigree    FAG  \\\n",
       "16         Bailey    NC 12C*2 / N96076L  BC1F1-06-01-S-03-S-05: F09    + +   \n",
       "17         Bailey    NC 12C*2 / N96076L  BC1F1-06-01-S-03-S-05: F09    + +   \n",
       "19         Bailey    NC 12C*2 / N96076L  BC1F1-06-01-S-03-S-05: F09    + +   \n",
       "20         Bailey    NC 12C*2 / N96076L  BC1F1-06-01-S-03-S-05: F09    + +   \n",
       "22         Bailey    NC 12C*2 / N96076L  BC1F1-06-01-S-03-S-05: F09    + +   \n",
       "...           ...                   ...                         ...    ...   \n",
       "2651        Wynne   Bailey*2 / Brantley  BC1F1-04-01-S-02-S-02: F09  ol ol   \n",
       "2653        Wynne   Bailey*2 / Brantley  BC1F1-04-01-S-02-S-02: F09  ol ol   \n",
       "2654        Wynne   Bailey*2 / Brantley  BC1F1-04-01-S-02-S-02: F09  ol ol   \n",
       "2656        Wynne   Bailey*2 / Brantley  BC1F1-04-01-S-02-S-02: F09  ol ol   \n",
       "2657        Wynne   Bailey*2 / Brantley  BC1F1-04-01-S-02-S-02: F09  ol ol   \n",
       "\n",
       "      Year Location Name                             Label  Plot_Yield  Yield  \n",
       "16    2018      RMT  ATP  Advanced Testing Program - Yield        13.6   4104  \n",
       "17    2018      LEW  ATP  Advanced Testing Program - Yield        12.9   3915  \n",
       "19    2017      RMT  ATP  Advanced Testing Program - Yield        14.8   4480  \n",
       "20    2017      LEW  ATP  Advanced Testing Program - Yield        16.0   4841  \n",
       "22    2016      RMT  ATP  Advanced Testing Program - Yield         7.5   2262  \n",
       "...    ...      ...  ...                               ...         ...    ...  \n",
       "2651  2012      LEW  ATP  Advanced Testing Program - Yield        12.7   3849  \n",
       "2653  2011      RMT  ATP  Advanced Testing Program - Yield        17.3   5235  \n",
       "2654  2011      LEW  ATP  Advanced Testing Program - Yield        14.5   4394  \n",
       "2656  2010      RMT  ATP  Advanced Testing Program - Yield         6.5   1966  \n",
       "2657  2010      LEW  ATP  Advanced Testing Program - Yield        10.2   3099  \n",
       "\n",
       "[96 rows x 10 columns]"
      ]
     },
     "execution_count": 21,
     "metadata": {},
     "output_type": "execute_result"
    }
   ],
   "source": [
    "line_data"
   ]
  },
  {
   "cell_type": "markdown",
   "metadata": {},
   "source": [
    "12. Export the means of each line by location to an excel file called 'NCSU_release.xlsx'"
   ]
  },
  {
   "cell_type": "code",
   "execution_count": 22,
   "metadata": {},
   "outputs": [],
   "source": [
    "line_data.groupby(['Location','NC_Accession']).mean()['Yield'].to_excel('NCSU_release.xlsx')"
   ]
  }
 ],
 "metadata": {
  "kernelspec": {
   "display_name": "Python 3",
   "language": "python",
   "name": "python3"
  },
  "language_info": {
   "codemirror_mode": {
    "name": "ipython",
    "version": 3
   },
   "file_extension": ".py",
   "mimetype": "text/x-python",
   "name": "python",
   "nbconvert_exporter": "python",
   "pygments_lexer": "ipython3",
   "version": "3.7.3"
  }
 },
 "nbformat": 4,
 "nbformat_minor": 2
}
