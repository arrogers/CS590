{
 "cells": [
  {
   "cell_type": "markdown",
   "metadata": {},
   "source": [
    "*Anna Rene Rogers  \n",
    "17/09/2019*\n",
    "\n",
    "# CS 590 Special Topics\n",
    "## Programming and Data Science for Applied Research\n",
    "\n",
    "Based on the Python programming basics lecture topics:\n",
    "- Basic Data Types\n",
    "- Basic Arithmetic\n",
    "- Variables\n",
    "- Lists, Dictionaries, Tuples, and Sets\n",
    "- Comparison Operators\n",
    "- Selection, Indexing, and Slicing\n",
    "\n",
    "This exercise should be straightforward and is designed to be a review of the lecture material. Don't expect something very challenging yet. Simply just want to establish a baseline for everyone. Exercises later on this semester will progressively get more challenging (but fun) so it's important to understand these concepts now."
   ]
  },
  {
   "cell_type": "markdown",
   "metadata": {},
   "source": [
    "### Solve the following using Python\n",
    "\n",
    "**What is six to the power of three?**"
   ]
  },
  {
   "cell_type": "code",
   "execution_count": 1,
   "metadata": {},
   "outputs": [
    {
     "data": {
      "text/plain": [
       "216"
      ]
     },
     "execution_count": 1,
     "metadata": {},
     "output_type": "execute_result"
    }
   ],
   "source": [
    "6 ** 3 #Exponents in Python use ** rather than teh ^ used in R."
   ]
  },
  {
   "cell_type": "markdown",
   "metadata": {},
   "source": [
    "**Create a list called peanut_weight with the following data points**\n",
    "\n",
    "89.4, 78.2, 91.4, 95.2, 105.5"
   ]
  },
  {
   "cell_type": "code",
   "execution_count": 3,
   "metadata": {},
   "outputs": [
    {
     "data": {
      "text/plain": [
       "[89.4, 78.2, 91.4, 95.2, 105.5]"
      ]
     },
     "execution_count": 3,
     "metadata": {},
     "output_type": "execute_result"
    }
   ],
   "source": [
    "peanut_weight = [89.4, 78.2, 91.4, 95.2, 105.5] #Lists are created using square brackets\n",
    "peanut_weight #Print the list"
   ]
  },
  {
   "cell_type": "markdown",
   "metadata": {},
   "source": [
    "**Print the first, third, and fifth peanut weights in the peanut_weight list**"
   ]
  },
  {
   "cell_type": "code",
   "execution_count": 4,
   "metadata": {},
   "outputs": [
    {
     "data": {
      "text/plain": [
       "[89.4, 91.4, 105.5]"
      ]
     },
     "execution_count": 4,
     "metadata": {},
     "output_type": "execute_result"
    }
   ],
   "source": [
    "peanut_weight[::2] #Print starting from the first entry (starts at 0 so we don't need to write it), and print every two entries"
   ]
  },
  {
   "cell_type": "markdown",
   "metadata": {},
   "source": [
    "**Create a dictionary using the following names in order of the values that appear in peanut_weight and print the items in the dictionary.**"
   ]
  },
  {
   "cell_type": "code",
   "execution_count": 8,
   "metadata": {},
   "outputs": [
    {
     "name": "stdout",
     "output_type": "stream",
     "text": [
      "{'Sullivan': 89.4, 'Bailey': 78.2, 'Bailey II': 91.4, 'Emery': 95.2, 'Wynne': 105.5}\n"
     ]
    }
   ],
   "source": [
    "#Create the dictionary, keys and values can be stored on different lines -I think this helps readability of the pairs.\n",
    "peanut_dictionary = {\n",
    "    \"Sullivan\" : 89.4,\n",
    "    \"Bailey\" : 78.2,\n",
    "    \"Bailey II\" : 91.4,\n",
    "    \"Emery\" : 95.2,\n",
    "    \"Wynne\" : 105.5\n",
    "}\n",
    "\n",
    "peanut_dictionary.items() #Print the dictionary items, which will include both keys and values"
   ]
  },
  {
   "cell_type": "markdown",
   "metadata": {},
   "source": [
    "**Which peanut cultivar has the largest seed weight?**  *Hint:  Use the built-in Python function* **max()**."
   ]
  },
  {
   "cell_type": "code",
   "execution_count": 12,
   "metadata": {},
   "outputs": [
    {
     "data": {
      "text/plain": [
       "('Wynne', 105.5)"
      ]
     },
     "execution_count": 12,
     "metadata": {},
     "output_type": "execute_result"
    }
   ],
   "source": [
    "max(peanut_dictionary.items())"
   ]
  },
  {
   "cell_type": "markdown",
   "metadata": {},
   "source": [
    "**Print the statement below using the following variables**\n",
    "\n",
    "Cultivar = 'Wynne'  \n",
    "Size = 105.5"
   ]
  },
  {
   "cell_type": "code",
   "execution_count": 13,
   "metadata": {},
   "outputs": [
    {
     "name": "stdout",
     "output_type": "stream",
     "text": [
      "Wynne is the largest cultivar weighing 105.5 grams per 100 seeds.\n"
     ]
    }
   ],
   "source": [
    "Cultivar = 'Wynne'\n",
    "Size = 105.5\n",
    "\n",
    "print(\"%s is the largest cultivar weighing %s grams per 100 seeds.\" % (Cultivar, Size))"
   ]
  }
 ],
 "metadata": {
  "kernelspec": {
   "display_name": "Python 3",
   "language": "python",
   "name": "python3"
  },
  "language_info": {
   "codemirror_mode": {
    "name": "ipython",
    "version": 3
   },
   "file_extension": ".py",
   "mimetype": "text/x-python",
   "name": "python",
   "nbconvert_exporter": "python",
   "pygments_lexer": "ipython3",
   "version": "3.7.3"
  }
 },
 "nbformat": 4,
 "nbformat_minor": 2
}
