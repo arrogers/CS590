{
 "cells": [
  {
   "cell_type": "markdown",
   "metadata": {},
   "source": [
    "# Anna R Rogers\n",
    "# <font color='red'>Introduction to Pandas Exercise</font>\n",
    "\n",
    "The last two weeks focused on the Pandas library, specifically input of files to dataframes, indexing a selecting subsets of data, merging and joining, and output of dataframes to various files. This exercise is designed to review the materials coverd in the Week 4 and 5 lectures."
   ]
  },
  {
   "cell_type": "markdown",
   "metadata": {},
   "source": [
    "1. Import Pandas, Numpy and OS libraries"
   ]
  },
  {
   "cell_type": "code",
   "execution_count": 1,
   "metadata": {},
   "outputs": [],
   "source": [
    "import pandas as pd\n",
    "import numpy as np\n",
    "import os"
   ]
  },
  {
   "cell_type": "markdown",
   "metadata": {},
   "source": [
    "2. Read in the peanut_lines CSV file as **peanut_lines** (Use encoding='ISO-8859-1')"
   ]
  },
  {
   "cell_type": "code",
   "execution_count": 2,
   "metadata": {},
   "outputs": [],
   "source": [
    "peanut_lines = pd.read_csv('peanut_lines.csv', encoding = 'ISO-8859-1')"
   ]
  },
  {
   "cell_type": "markdown",
   "metadata": {},
   "source": [
    "3. Check the head of the files"
   ]
  },
  {
   "cell_type": "code",
   "execution_count": 3,
   "metadata": {},
   "outputs": [
    {
     "data": {
      "text/html": [
       "<div>\n",
       "<style scoped>\n",
       "    .dataframe tbody tr th:only-of-type {\n",
       "        vertical-align: middle;\n",
       "    }\n",
       "\n",
       "    .dataframe tbody tr th {\n",
       "        vertical-align: top;\n",
       "    }\n",
       "\n",
       "    .dataframe thead th {\n",
       "        text-align: right;\n",
       "    }\n",
       "</style>\n",
       "<table border=\"1\" class=\"dataframe\">\n",
       "  <thead>\n",
       "    <tr style=\"text-align: right;\">\n",
       "      <th></th>\n",
       "      <th>NC_Accession</th>\n",
       "      <th>Identity or Parentage</th>\n",
       "      <th>Pedigree</th>\n",
       "      <th>FAG</th>\n",
       "    </tr>\n",
       "  </thead>\n",
       "  <tbody>\n",
       "    <tr>\n",
       "      <th>0</th>\n",
       "      <td>ACI WT09-0761</td>\n",
       "      <td>ACI WT09-0761</td>\n",
       "      <td>NaN</td>\n",
       "      <td>Check</td>\n",
       "    </tr>\n",
       "    <tr>\n",
       "      <th>1</th>\n",
       "      <td>ACI WT11-0351</td>\n",
       "      <td>ACI WT11-0351</td>\n",
       "      <td>NaN</td>\n",
       "      <td>ol ol</td>\n",
       "    </tr>\n",
       "    <tr>\n",
       "      <th>2</th>\n",
       "      <td>ACI WT12-0226</td>\n",
       "      <td>ACI WT12-0226</td>\n",
       "      <td>NaN</td>\n",
       "      <td>ol ol</td>\n",
       "    </tr>\n",
       "    <tr>\n",
       "      <th>3</th>\n",
       "      <td>ACI WT12-0419</td>\n",
       "      <td>ACI WT12-0419</td>\n",
       "      <td>NaN</td>\n",
       "      <td>Check</td>\n",
       "    </tr>\n",
       "    <tr>\n",
       "      <th>4</th>\n",
       "      <td>ACI WT12-0420</td>\n",
       "      <td>ACI WT12-0420</td>\n",
       "      <td>NaN</td>\n",
       "      <td>ol ol</td>\n",
       "    </tr>\n",
       "  </tbody>\n",
       "</table>\n",
       "</div>"
      ],
      "text/plain": [
       "    NC_Accession Identity or Parentage Pedigree    FAG\n",
       "0  ACI WT09-0761         ACI WT09-0761      NaN  Check\n",
       "1  ACI WT11-0351         ACI WT11-0351      NaN  ol ol\n",
       "2  ACI WT12-0226         ACI WT12-0226      NaN  ol ol\n",
       "3  ACI WT12-0419         ACI WT12-0419      NaN  Check\n",
       "4  ACI WT12-0420         ACI WT12-0420      NaN  ol ol"
      ]
     },
     "execution_count": 3,
     "metadata": {},
     "output_type": "execute_result"
    }
   ],
   "source": [
    "peanut_lines.head()"
   ]
  },
  {
   "cell_type": "markdown",
   "metadata": {},
   "source": [
    "4. Use the .info() method to find out how many peanut_lines are in the dataframe\n",
    "\n",
    "    **Bonus: Print the total number of entries?"
   ]
  },
  {
   "cell_type": "code",
   "execution_count": 4,
   "metadata": {},
   "outputs": [
    {
     "name": "stdout",
     "output_type": "stream",
     "text": [
      "<class 'pandas.core.frame.DataFrame'>\n",
      "RangeIndex: 859 entries, 0 to 858\n",
      "Data columns (total 4 columns):\n",
      "NC_Accession             466 non-null object\n",
      "Identity or Parentage    466 non-null object\n",
      "Pedigree                 409 non-null object\n",
      "FAG                      466 non-null object\n",
      "dtypes: object(4)\n",
      "memory usage: 26.9+ KB\n"
     ]
    }
   ],
   "source": [
    "peanut_lines.info() #Check how many entries are in the data frame (Bonus)"
   ]
  },
  {
   "cell_type": "code",
   "execution_count": 5,
   "metadata": {},
   "outputs": [
    {
     "data": {
      "text/plain": [
       "463"
      ]
     },
     "execution_count": 5,
     "metadata": {},
     "output_type": "execute_result"
    }
   ],
   "source": [
    "peanut_lines[\"NC_Accession\"].nunique() #Use describe to check how many unique accessions of lines there are"
   ]
  },
  {
   "cell_type": "markdown",
   "metadata": {},
   "source": [
    "There are 463 unique accessions in the file."
   ]
  },
  {
   "cell_type": "markdown",
   "metadata": {},
   "source": [
    "5. Read in the peanut_yield text file as **peanut_yield** (Use encoding='ISO-8859-1')"
   ]
  },
  {
   "cell_type": "code",
   "execution_count": 6,
   "metadata": {},
   "outputs": [
    {
     "data": {
      "text/html": [
       "<div>\n",
       "<style scoped>\n",
       "    .dataframe tbody tr th:only-of-type {\n",
       "        vertical-align: middle;\n",
       "    }\n",
       "\n",
       "    .dataframe tbody tr th {\n",
       "        vertical-align: top;\n",
       "    }\n",
       "\n",
       "    .dataframe thead th {\n",
       "        text-align: right;\n",
       "    }\n",
       "</style>\n",
       "<table border=\"1\" class=\"dataframe\">\n",
       "  <thead>\n",
       "    <tr style=\"text-align: right;\">\n",
       "      <th></th>\n",
       "      <th>Year</th>\n",
       "      <th>Location</th>\n",
       "      <th>Name</th>\n",
       "      <th>Label</th>\n",
       "      <th>NC_Accession</th>\n",
       "      <th>Plot_Yield</th>\n",
       "      <th>Yield</th>\n",
       "    </tr>\n",
       "  </thead>\n",
       "  <tbody>\n",
       "    <tr>\n",
       "      <th>0</th>\n",
       "      <td>2014</td>\n",
       "      <td>LEW</td>\n",
       "      <td>ATP</td>\n",
       "      <td>Advanced Testing Program - Yield</td>\n",
       "      <td>ACI WT09-0761</td>\n",
       "      <td>9.0</td>\n",
       "      <td>2733</td>\n",
       "    </tr>\n",
       "    <tr>\n",
       "      <th>1</th>\n",
       "      <td>2014</td>\n",
       "      <td>RMT</td>\n",
       "      <td>ATP</td>\n",
       "      <td>Advanced Testing Program - Yield</td>\n",
       "      <td>ACI WT09-0761</td>\n",
       "      <td>10.2</td>\n",
       "      <td>3085</td>\n",
       "    </tr>\n",
       "    <tr>\n",
       "      <th>2</th>\n",
       "      <td>2014</td>\n",
       "      <td>WHI</td>\n",
       "      <td>ATP</td>\n",
       "      <td>Advanced Testing Program - Yield</td>\n",
       "      <td>ACI WT09-0761</td>\n",
       "      <td>10.2</td>\n",
       "      <td>3085</td>\n",
       "    </tr>\n",
       "    <tr>\n",
       "      <th>3</th>\n",
       "      <td>2015</td>\n",
       "      <td>LEW</td>\n",
       "      <td>ATP</td>\n",
       "      <td>Advanced Testing Program - Yield</td>\n",
       "      <td>ACI WT11-0351</td>\n",
       "      <td>15.3</td>\n",
       "      <td>4632</td>\n",
       "    </tr>\n",
       "    <tr>\n",
       "      <th>4</th>\n",
       "      <td>2015</td>\n",
       "      <td>RMT</td>\n",
       "      <td>ATP</td>\n",
       "      <td>Advanced Testing Program - Yield</td>\n",
       "      <td>ACI WT11-0351</td>\n",
       "      <td>10.7</td>\n",
       "      <td>3226</td>\n",
       "    </tr>\n",
       "  </tbody>\n",
       "</table>\n",
       "</div>"
      ],
      "text/plain": [
       "   Year Location Name                             Label   NC_Accession  \\\n",
       "0  2014      LEW  ATP  Advanced Testing Program - Yield  ACI WT09-0761   \n",
       "1  2014      RMT  ATP  Advanced Testing Program - Yield  ACI WT09-0761   \n",
       "2  2014      WHI  ATP  Advanced Testing Program - Yield  ACI WT09-0761   \n",
       "3  2015      LEW  ATP  Advanced Testing Program - Yield  ACI WT11-0351   \n",
       "4  2015      RMT  ATP  Advanced Testing Program - Yield  ACI WT11-0351   \n",
       "\n",
       "   Plot_Yield  Yield  \n",
       "0         9.0   2733  \n",
       "1        10.2   3085  \n",
       "2        10.2   3085  \n",
       "3        15.3   4632  \n",
       "4        10.7   3226  "
      ]
     },
     "execution_count": 6,
     "metadata": {},
     "output_type": "execute_result"
    }
   ],
   "source": [
    "peanut_yield = pd.read_csv('peanut_yield.txt', encoding = 'ISO-8859-1', sep = '\\t')\n",
    "peanut_yield.head()"
   ]
  },
  {
   "cell_type": "markdown",
   "metadata": {},
   "source": [
    "6. Check the column names of peanut_yield"
   ]
  },
  {
   "cell_type": "code",
   "execution_count": 7,
   "metadata": {},
   "outputs": [
    {
     "data": {
      "text/plain": [
       "['Year', 'Location', 'Name', 'Label', 'NC_Accession', 'Plot_Yield', 'Yield']"
      ]
     },
     "execution_count": 7,
     "metadata": {},
     "output_type": "execute_result"
    }
   ],
   "source": [
    "list(peanut_yield) #List the names of the columns in the frame"
   ]
  },
  {
   "cell_type": "markdown",
   "metadata": {},
   "source": [
    "7. Using 'NC_Accession', merge (or join) the two dataframes together keeping the entirety of the peanut_yield data. Name the new dataframe **peanut_data**"
   ]
  },
  {
   "cell_type": "code",
   "execution_count": 8,
   "metadata": {},
   "outputs": [],
   "source": [
    "peanut_data = pd.merge(peanut_lines, peanut_yield, how = \"right\", on = 'NC_Accession')\n",
    "#Use a merge on NC_accession, and merge right to get all the observations from peanut_yield"
   ]
  },
  {
   "cell_type": "markdown",
   "metadata": {},
   "source": [
    "8. What is the average yield in 2017?"
   ]
  },
  {
   "cell_type": "code",
   "execution_count": 9,
   "metadata": {},
   "outputs": [
    {
     "data": {
      "text/plain": [
       "3981.6"
      ]
     },
     "execution_count": 9,
     "metadata": {},
     "output_type": "execute_result"
    }
   ],
   "source": [
    "peanut_data['Yield'][peanut_data['Year'] == 2017].mean()\n",
    "#Subset the data so that we only have 2017 data, then compute the mean"
   ]
  },
  {
   "cell_type": "markdown",
   "metadata": {},
   "source": [
    "The mean yield in 2017 was 3981.6"
   ]
  },
  {
   "cell_type": "markdown",
   "metadata": {},
   "source": [
    "9. What was the average yield of the top 10 lines tested in the peanut program?"
   ]
  },
  {
   "cell_type": "code",
   "execution_count": 10,
   "metadata": {},
   "outputs": [
    {
     "data": {
      "text/html": [
       "<div>\n",
       "<style scoped>\n",
       "    .dataframe tbody tr th:only-of-type {\n",
       "        vertical-align: middle;\n",
       "    }\n",
       "\n",
       "    .dataframe tbody tr th {\n",
       "        vertical-align: top;\n",
       "    }\n",
       "\n",
       "    .dataframe thead th {\n",
       "        text-align: right;\n",
       "    }\n",
       "</style>\n",
       "<table border=\"1\" class=\"dataframe\">\n",
       "  <thead>\n",
       "    <tr style=\"text-align: right;\">\n",
       "      <th></th>\n",
       "      <th>Year</th>\n",
       "      <th>Plot_Yield</th>\n",
       "      <th>Yield</th>\n",
       "    </tr>\n",
       "    <tr>\n",
       "      <th>NC_Accession</th>\n",
       "      <th></th>\n",
       "      <th></th>\n",
       "      <th></th>\n",
       "    </tr>\n",
       "  </thead>\n",
       "  <tbody>\n",
       "    <tr>\n",
       "      <th>N17045</th>\n",
       "      <td>2018.0</td>\n",
       "      <td>18.100000</td>\n",
       "      <td>5483.666667</td>\n",
       "    </tr>\n",
       "    <tr>\n",
       "      <th>N15006</th>\n",
       "      <td>2015.0</td>\n",
       "      <td>17.350000</td>\n",
       "      <td>5250.000000</td>\n",
       "    </tr>\n",
       "    <tr>\n",
       "      <th>N15060</th>\n",
       "      <td>2015.0</td>\n",
       "      <td>17.250000</td>\n",
       "      <td>5209.500000</td>\n",
       "    </tr>\n",
       "    <tr>\n",
       "      <th>N15004</th>\n",
       "      <td>2015.0</td>\n",
       "      <td>17.150000</td>\n",
       "      <td>5197.000000</td>\n",
       "    </tr>\n",
       "    <tr>\n",
       "      <th>N15066</th>\n",
       "      <td>2015.0</td>\n",
       "      <td>17.150000</td>\n",
       "      <td>5190.500000</td>\n",
       "    </tr>\n",
       "    <tr>\n",
       "      <th>N15055</th>\n",
       "      <td>2015.0</td>\n",
       "      <td>16.950000</td>\n",
       "      <td>5129.500000</td>\n",
       "    </tr>\n",
       "    <tr>\n",
       "      <th>N14025</th>\n",
       "      <td>2014.0</td>\n",
       "      <td>16.866667</td>\n",
       "      <td>5095.000000</td>\n",
       "    </tr>\n",
       "    <tr>\n",
       "      <th>PD 14002</th>\n",
       "      <td>2015.0</td>\n",
       "      <td>16.800000</td>\n",
       "      <td>5082.500000</td>\n",
       "    </tr>\n",
       "    <tr>\n",
       "      <th>PD 14003</th>\n",
       "      <td>2015.0</td>\n",
       "      <td>16.350000</td>\n",
       "      <td>4959.000000</td>\n",
       "    </tr>\n",
       "    <tr>\n",
       "      <th>N15001</th>\n",
       "      <td>2015.0</td>\n",
       "      <td>16.400000</td>\n",
       "      <td>4954.000000</td>\n",
       "    </tr>\n",
       "  </tbody>\n",
       "</table>\n",
       "</div>"
      ],
      "text/plain": [
       "                Year  Plot_Yield        Yield\n",
       "NC_Accession                                 \n",
       "N17045        2018.0   18.100000  5483.666667\n",
       "N15006        2015.0   17.350000  5250.000000\n",
       "N15060        2015.0   17.250000  5209.500000\n",
       "N15004        2015.0   17.150000  5197.000000\n",
       "N15066        2015.0   17.150000  5190.500000\n",
       "N15055        2015.0   16.950000  5129.500000\n",
       "N14025        2014.0   16.866667  5095.000000\n",
       "PD 14002      2015.0   16.800000  5082.500000\n",
       "PD 14003      2015.0   16.350000  4959.000000\n",
       "N15001        2015.0   16.400000  4954.000000"
      ]
     },
     "execution_count": 10,
     "metadata": {},
     "output_type": "execute_result"
    }
   ],
   "source": [
    "peanut_data.groupby(['NC_Accession']).mean().nlargest(10, columns = 'Yield')  \n",
    "#First group by accession and calculate the mean.  Then use nlargest to find the top ten average yielding varieties"
   ]
  },
  {
   "cell_type": "markdown",
   "metadata": {},
   "source": [
    "10. What are the top 10 most commonly tested lines? Hint: value_counts()"
   ]
  },
  {
   "cell_type": "code",
   "execution_count": 11,
   "metadata": {},
   "outputs": [
    {
     "data": {
      "text/plain": [
       "N11028        34\n",
       "Bailey        26\n",
       "Emery         26\n",
       "Wynne         26\n",
       "Sugg          26\n",
       "Sullivan      26\n",
       "Florida-07    20\n",
       "N11020        20\n",
       "Bailey II     20\n",
       "Gregory       18\n",
       "Name: NC_Accession, dtype: int64"
      ]
     },
     "execution_count": 11,
     "metadata": {},
     "output_type": "execute_result"
    }
   ],
   "source": [
    "peanut_data['NC_Accession'].value_counts()[0:10] #Get the value counts of the top ten most planted lines"
   ]
  },
  {
   "cell_type": "markdown",
   "metadata": {},
   "source": [
    "11. Create a dataframe that satisfy the following requirements\n",
    "<br>peanut lines = 'Bailey', 'Sullivan', 'Wynne', 'Emery', 'Bailey II', 'N14023'\n",
    "<br>location = 'LEW', 'RMT' #Lewiston and Rocky Mount\n",
    "<br>Dataframe = line_data"
   ]
  },
  {
   "cell_type": "code",
   "execution_count": 12,
   "metadata": {},
   "outputs": [
    {
     "data": {
      "text/html": [
       "<div>\n",
       "<style scoped>\n",
       "    .dataframe tbody tr th:only-of-type {\n",
       "        vertical-align: middle;\n",
       "    }\n",
       "\n",
       "    .dataframe tbody tr th {\n",
       "        vertical-align: top;\n",
       "    }\n",
       "\n",
       "    .dataframe thead th {\n",
       "        text-align: right;\n",
       "    }\n",
       "</style>\n",
       "<table border=\"1\" class=\"dataframe\">\n",
       "  <thead>\n",
       "    <tr style=\"text-align: right;\">\n",
       "      <th></th>\n",
       "      <th>NC_Accession</th>\n",
       "      <th>Identity or Parentage</th>\n",
       "      <th>Pedigree</th>\n",
       "      <th>FAG</th>\n",
       "      <th>Year</th>\n",
       "      <th>Location</th>\n",
       "      <th>Name</th>\n",
       "      <th>Label</th>\n",
       "      <th>Plot_Yield</th>\n",
       "      <th>Yield</th>\n",
       "    </tr>\n",
       "  </thead>\n",
       "  <tbody>\n",
       "    <tr>\n",
       "      <th>15</th>\n",
       "      <td>Bailey</td>\n",
       "      <td>NC 12C*2 / N96076L</td>\n",
       "      <td>BC1F1-06-01-S-03-S-05: F09</td>\n",
       "      <td>+ +</td>\n",
       "      <td>2010</td>\n",
       "      <td>LEW</td>\n",
       "      <td>ATP</td>\n",
       "      <td>Advanced Testing Program - Yield</td>\n",
       "      <td>11.7</td>\n",
       "      <td>3529</td>\n",
       "    </tr>\n",
       "    <tr>\n",
       "      <th>16</th>\n",
       "      <td>Bailey</td>\n",
       "      <td>NC 12C*2 / N96076L</td>\n",
       "      <td>BC1F1-06-01-S-03-S-05: F09</td>\n",
       "      <td>+ +</td>\n",
       "      <td>2010</td>\n",
       "      <td>RMT</td>\n",
       "      <td>ATP</td>\n",
       "      <td>Advanced Testing Program - Yield</td>\n",
       "      <td>6.6</td>\n",
       "      <td>2004</td>\n",
       "    </tr>\n",
       "    <tr>\n",
       "      <th>18</th>\n",
       "      <td>Bailey</td>\n",
       "      <td>NC 12C*2 / N96076L</td>\n",
       "      <td>BC1F1-06-01-S-03-S-05: F09</td>\n",
       "      <td>+ +</td>\n",
       "      <td>2011</td>\n",
       "      <td>LEW</td>\n",
       "      <td>ATP</td>\n",
       "      <td>Advanced Testing Program - Yield</td>\n",
       "      <td>13.6</td>\n",
       "      <td>4114</td>\n",
       "    </tr>\n",
       "    <tr>\n",
       "      <th>19</th>\n",
       "      <td>Bailey</td>\n",
       "      <td>NC 12C*2 / N96076L</td>\n",
       "      <td>BC1F1-06-01-S-03-S-05: F09</td>\n",
       "      <td>+ +</td>\n",
       "      <td>2011</td>\n",
       "      <td>RMT</td>\n",
       "      <td>ATP</td>\n",
       "      <td>Advanced Testing Program - Yield</td>\n",
       "      <td>17.1</td>\n",
       "      <td>5159</td>\n",
       "    </tr>\n",
       "    <tr>\n",
       "      <th>21</th>\n",
       "      <td>Bailey</td>\n",
       "      <td>NC 12C*2 / N96076L</td>\n",
       "      <td>BC1F1-06-01-S-03-S-05: F09</td>\n",
       "      <td>+ +</td>\n",
       "      <td>2012</td>\n",
       "      <td>LEW</td>\n",
       "      <td>ATP</td>\n",
       "      <td>Advanced Testing Program - Yield</td>\n",
       "      <td>12.8</td>\n",
       "      <td>3873</td>\n",
       "    </tr>\n",
       "  </tbody>\n",
       "</table>\n",
       "</div>"
      ],
      "text/plain": [
       "   NC_Accession Identity or Parentage                    Pedigree  FAG  Year  \\\n",
       "15       Bailey    NC 12C*2 / N96076L  BC1F1-06-01-S-03-S-05: F09  + +  2010   \n",
       "16       Bailey    NC 12C*2 / N96076L  BC1F1-06-01-S-03-S-05: F09  + +  2010   \n",
       "18       Bailey    NC 12C*2 / N96076L  BC1F1-06-01-S-03-S-05: F09  + +  2011   \n",
       "19       Bailey    NC 12C*2 / N96076L  BC1F1-06-01-S-03-S-05: F09  + +  2011   \n",
       "21       Bailey    NC 12C*2 / N96076L  BC1F1-06-01-S-03-S-05: F09  + +  2012   \n",
       "\n",
       "   Location Name                             Label  Plot_Yield  Yield  \n",
       "15      LEW  ATP  Advanced Testing Program - Yield        11.7   3529  \n",
       "16      RMT  ATP  Advanced Testing Program - Yield         6.6   2004  \n",
       "18      LEW  ATP  Advanced Testing Program - Yield        13.6   4114  \n",
       "19      RMT  ATP  Advanced Testing Program - Yield        17.1   5159  \n",
       "21      LEW  ATP  Advanced Testing Program - Yield        12.8   3873  "
      ]
     },
     "execution_count": 12,
     "metadata": {},
     "output_type": "execute_result"
    }
   ],
   "source": [
    "peanut_lines = ['Bailey','Sullivan','Wynne','Emery','Bailey II','N14023'] #List of accessions\n",
    "location = ['LEW', 'RMT'] #list of locations\n",
    "\n",
    "line_data = peanut_data[(peanut_data[\"NC_Accession\"].isin(peanut_lines)) & peanut_data[\"Location\"].isin(location)] #Take only obs for the 6 lines in the two locations\n",
    "line_data.head() #head of the line data"
   ]
  },
  {
   "cell_type": "markdown",
   "metadata": {},
   "source": [
    "12. Export the means of each line by location to an excel file called 'NCSU_release.xlsx'"
   ]
  },
  {
   "cell_type": "code",
   "execution_count": 13,
   "metadata": {},
   "outputs": [],
   "source": [
    "#Use group by to do this, then pipe to mean, then to excel file which will go in current working directory\n",
    "line_data.groupby([\"Location\"]).mean().to_excel('NCSU_release.xlsx')\n"
   ]
  }
 ],
 "metadata": {
  "kernelspec": {
   "display_name": "Python 3",
   "language": "python",
   "name": "python3"
  },
  "language_info": {
   "codemirror_mode": {
    "name": "ipython",
    "version": 3
   },
   "file_extension": ".py",
   "mimetype": "text/x-python",
   "name": "python",
   "nbconvert_exporter": "python",
   "pygments_lexer": "ipython3",
   "version": "3.7.3"
  }
 },
 "nbformat": 4,
 "nbformat_minor": 2
}
